{
 "cells": [
  {
   "cell_type": "markdown",
   "metadata": {},
   "source": [
    "1. What is the role of the 'else' block in a try-except statement? Provide an example\n",
    "scenario where it would be useful.\n",
    "\n",
    "Answer 1) 'Else' block is an optional block used to execute the code if there is no exception in the try block."
   ]
  },
  {
   "cell_type": "code",
   "execution_count": 1,
   "metadata": {},
   "outputs": [
    {
     "name": "stdout",
     "output_type": "stream",
     "text": [
      "1.0\n"
     ]
    }
   ],
   "source": [
    "# Answer 1) Use of else block\n",
    "a = 10\n",
    "b = 10\n",
    "try:\n",
    "    c = a/b\n",
    "    \n",
    "except Exception as e:\n",
    "    print(e)\n",
    "    \n",
    "else:\n",
    "    print(c)"
   ]
  },
  {
   "cell_type": "code",
   "execution_count": 2,
   "metadata": {},
   "outputs": [
    {
     "name": "stdout",
     "output_type": "stream",
     "text": [
      "division by zero\n"
     ]
    }
   ],
   "source": [
    "a = 10\n",
    "b = 0\n",
    "try:\n",
    "    c = a/b\n",
    "    \n",
    "except Exception as e:\n",
    "    print(e)\n",
    "    \n",
    "else:\n",
    "    print(c)"
   ]
  },
  {
   "cell_type": "markdown",
   "metadata": {},
   "source": [
    "2. Can a try-except block be nested inside another try-except block? Explain with an\n",
    "example.\n",
    "\n",
    "Answer 2) Yes, a try-except block can be nested inside another try-except block. if an exception is raised in the nested try block, the nested except block is used to handle it."
   ]
  },
  {
   "cell_type": "code",
   "execution_count": 3,
   "metadata": {},
   "outputs": [
    {
     "name": "stdout",
     "output_type": "stream",
     "text": [
      "outer try block\n",
      "nested try block\n",
      "outer except block\n",
      "division by zero\n"
     ]
    }
   ],
   "source": [
    "# Answer 2\n",
    "x = 10\n",
    "y = 0\n",
    " \n",
    "try:\n",
    "    print(\"outer try block\")\n",
    "    try:\n",
    "        print(\"nested try block\")\n",
    "        print(x / y)\n",
    "    except TypeError as te:\n",
    "        print(\"nested except block\")\n",
    "        print(te)\n",
    "except ZeroDivisionError as ze:\n",
    "    print(\"outer except block\")\n",
    "    print(ze)"
   ]
  },
  {
   "cell_type": "markdown",
   "metadata": {},
   "source": [
    "3. How can you create a custom exception class in Python? Provide an example that\n",
    "demonstrates its usage."
   ]
  },
  {
   "cell_type": "code",
   "execution_count": null,
   "metadata": {},
   "outputs": [],
   "source": [
    "# Answer 3) Creating exception class in python\n",
    "class SalaryRangeException(Exception):\n",
    "    \n",
    "    def __init__(self, salary, message ):\n",
    "        self.salary = salary\n",
    "        self.message = message\n",
    "        message = \"Salary is not in Rs 5000 to Rs 1500 range\"\n",
    "        "
   ]
  },
  {
   "cell_type": "code",
   "execution_count": 4,
   "metadata": {},
   "outputs": [
    {
     "name": "stdout",
     "output_type": "stream",
     "text": [
      "This is my custom exception\n"
     ]
    }
   ],
   "source": [
    "# Example demonstrating usage of exception class\n",
    "class CustomException(Exception):\n",
    "    \"\"\" my custom exception class \"\"\"\n",
    "\n",
    "\n",
    "try:\n",
    "    raise CustomException('This is my custom exception')\n",
    "except CustomException as ex:\n",
    "    print(ex)\n",
    "        "
   ]
  },
  {
   "cell_type": "markdown",
   "metadata": {},
   "source": [
    "4. What are some common exceptions that are built-in to Python?\n",
    "\n",
    "Answer 4) ZeroDivisionError: Raised when the second argument of a division or modulo operation is zero.\n",
    "\n",
    "TypeError: Raised when an operation or function is applied to an object of inappropriate type.\n",
    "\n",
    "ValueError: Raised when a built-in operation or function receives an argument that has the right type but an inappropriate value.\n",
    "\n",
    "IndexError: Raised when a sequence subscript is out of range.\n",
    "\n",
    "KeyError: Raised when a dictionary key is not found.\n",
    "\n",
    "FileNotFoundError: Raised when a file or directory is requested but doesn’t exist.\n",
    "\n",
    "IOError: Raised when an I/O operation (such as a print statement, the built-in open() function or a method of a file object) fails for an I/O-related reason.\n",
    "\n",
    "ImportError: Raised when an import statement fails to find the module definition or when a from ... import fails to find a name that is to be imported.\n",
    "\n",
    "MemoryError: Raised when an operation runs out of memory.\n",
    "\n",
    "OverflowError: Raised when the result of an arithmetic operation is too large to be expressed by the normal number format.\n",
    "\n",
    "AttributeError: Raised when an attribute reference or assignment fails.\n",
    "\n",
    "SyntaxError: Raised when the parser encounters a syntax error.\n",
    "\n",
    "IndentationError: Raised when there is incorrect indentation.\n",
    "\n",
    "NameError: Raised when a local or global name is not found."
   ]
  },
  {
   "cell_type": "markdown",
   "metadata": {},
   "source": [
    "5. What is logging in Python, and why is it important in software development?\n",
    "\n",
    "Answer 5) Logging is a technique for monitoring events that take place when some software is in use.\n",
    "\n",
    "For the creation, operation, and debugging of software, logging is crucial.\n",
    "There are very little odds that you would find the source of the issue if your programme fails and you don't have any logging records.\n",
    "Additionally, it will take a lot of time to identify the cause. Some programmers utilise the idea of \"Printing\" the statements to check whether they were correctly performed or if an error had occurred.\n",
    "However, printing is not a smart move. For basic scripts, it might be the answer to your problems, however the printing solution will fall short for complex programmes.\n",
    "A built-in Python package called logging enables publishing status messages to files or other output streams. The file may provide details about which portion of the code is run and any issues that have come up."
   ]
  },
  {
   "cell_type": "markdown",
   "metadata": {},
   "source": [
    "6. Explain the purpose of log levels in Python logging and provide examples of when\n",
    "each log level would be appropriate.\n",
    "\n",
    "Answer 6) Here are the different log levels in increasing order of severity:\n",
    "\n",
    "DEBUG: Detailed information, typically of interest only when diagnosing problems.\n",
    "\n",
    "INFO: Confirmation that things are working as expected.\n",
    "\n",
    "WARNING: An indication that something unexpected happened, or may happen in the future (e.g. ‘disk space low’). The software is still working as expected.\n",
    "\n",
    "ERROR: More serious problem that prevented the software from performing a function.\n",
    "\n",
    "CRITICAL: A very serious error, indicating that the program itself may be unable to continue running."
   ]
  },
  {
   "cell_type": "code",
   "execution_count": 3,
   "metadata": {},
   "outputs": [
    {
     "name": "stderr",
     "output_type": "stream",
     "text": [
      "DEBUG:root:Variables are 1 and 2\n"
     ]
    },
    {
     "data": {
      "text/plain": [
       "3"
      ]
     },
     "execution_count": 3,
     "metadata": {},
     "output_type": "execute_result"
    }
   ],
   "source": [
    "# Debug\n",
    "import logging\n",
    "logging.basicConfig(level=logging.DEBUG)\n",
    "\n",
    "def add(x,y):\n",
    "    logging.debug('Variables are %s and %s', x, y)\n",
    "    return x + y\n",
    "add(1, 2)\n"
   ]
  },
  {
   "cell_type": "code",
   "execution_count": 4,
   "metadata": {},
   "outputs": [
    {
     "name": "stderr",
     "output_type": "stream",
     "text": [
      "INFO:root:User Admin User logged in\n"
     ]
    }
   ],
   "source": [
    "# Info\n",
    "import logging \n",
    "logging.basicConfig(level=logging.INFO)\n",
    "\n",
    "def login(user):\n",
    "    logging.info('User %s logged in', user)\n",
    "    \n",
    "login('Admin User')"
   ]
  },
  {
   "cell_type": "code",
   "execution_count": 5,
   "metadata": {},
   "outputs": [
    {
     "name": "stderr",
     "output_type": "stream",
     "text": [
      "WARNING:root:Sorry you have low balance: 10000\n"
     ]
    }
   ],
   "source": [
    "# Warning\n",
    "import logging\n",
    "logging.basicConfig(level=logging.WARNING)\n",
    "\n",
    "def MyBalance(amount):\n",
    "    if amount<40000:\n",
    "        logging.warning('Sorry you have low balance: %s', amount)\n",
    "MyBalance(10000)"
   ]
  },
  {
   "cell_type": "code",
   "execution_count": 7,
   "metadata": {},
   "outputs": [
    {
     "name": "stderr",
     "output_type": "stream",
     "text": [
      "ERROR:root:You are trying to divide by zero, which is not allowed\n"
     ]
    }
   ],
   "source": [
    "# Error\n",
    "import logging\n",
    "logging.basicConfig(level=logging.ERROR)\n",
    "\n",
    "def LetUsDivide(n,d):\n",
    "    try:\n",
    "        result = n/d\n",
    "    except ZeroDivisionError:\n",
    "        logging.error('You are trying to divide by zero, which is not allowed')\n",
    "    else:\n",
    "        return result\n",
    "    \n",
    "LetUsDivide(4,0)"
   ]
  },
  {
   "cell_type": "code",
   "execution_count": 8,
   "metadata": {},
   "outputs": [
    {
     "name": "stderr",
     "output_type": "stream",
     "text": [
      "CRITICAL:root:System failure: You need to handle the issue now\n"
     ]
    }
   ],
   "source": [
    "# Critical Erros\n",
    "import logging\n",
    "\n",
    "logging.basicConfig(level=logging.CRITICAL)\n",
    "\n",
    "def LetUsCheckSystem(sys):\n",
    "    if sys != 'OK':\n",
    "        logging.critical('System failure: %s', sys)\n",
    "\n",
    "LetUsCheckSystem('You need to handle the issue now')"
   ]
  },
  {
   "cell_type": "markdown",
   "metadata": {},
   "source": [
    "7. What are log formatters in Python logging, and how can you customise the log\n",
    "message format using formatters?\n",
    "\n",
    "Answer 7). In Python's logging module, log formatters are objects responsible for specifying the layout of log records emitted by the logger. They define how the log records should be formatted before they are written to the specified output stream or file.\n",
    "\n",
    "A log formatter is an instance of the logging.Formatter class. It takes a format string and optional style information (which can be one of \"%\", \"{\", or \"$\") to determine how the log record should be formatted.\n",
    "In this example, the format string '%(asctime)s - %(name)s - %(levelname)s - %(message)s' is used. Here's what each part means:\n",
    "\n",
    "%(asctime)s: This placeholder is replaced with the time when the log record is created.\n",
    "\n",
    "%(name)s: This will be replaced with the name of the logger that generated the record.\n",
    "\n",
    "%(levelname)s: This will be replaced with the log level (e.g., DEBUG, INFO, WARNING, ERROR, CRITICAL).\n",
    "\n",
    "%(message)s: This will be replaced with the actual log message."
   ]
  },
  {
   "cell_type": "code",
   "execution_count": 9,
   "metadata": {},
   "outputs": [
    {
     "name": "stderr",
     "output_type": "stream",
     "text": [
      "2023-09-29 11:22:37,557 - example_logger - INFO - This is an informational message\n",
      "INFO:example_logger:This is an informational message\n"
     ]
    }
   ],
   "source": [
    "import logging\n",
    "\n",
    "# Create a basic logger\n",
    "logger = logging.getLogger('example_logger')\n",
    "logger.setLevel(logging.DEBUG)\n",
    "\n",
    "# Create a handler that writes log messages to the console\n",
    "console_handler = logging.StreamHandler()\n",
    "console_handler.setLevel(logging.DEBUG)\n",
    "\n",
    "# Create a formatter\n",
    "formatter = logging.Formatter('%(asctime)s - %(name)s - %(levelname)s - %(message)s')\n",
    "\n",
    "# Assign the formatter to the handler\n",
    "console_handler.setFormatter(formatter)\n",
    "\n",
    "# Add the handler to the logger\n",
    "logger.addHandler(console_handler)\n",
    "\n",
    "# Log a message\n",
    "logger.info('This is an informational message')\n"
   ]
  },
  {
   "cell_type": "markdown",
   "metadata": {},
   "source": [
    "8. How can you set up logging to capture log messages from multiple modules or\n",
    "classes in a Python application?\n",
    "\n",
    "Answer 8). o set up logging to capture log messages from multiple modules or classes in a Python application, you'll follow these steps:\n",
    "\n",
    "1. Create a Logger:\n",
    "\n",
    "Import the logging module.\n",
    "Create a logger using logging.getLogger('example_logger') where 'example_logger' is a unique name for your logger.\n",
    "\n",
    "2. Create a Handler:\n",
    "\n",
    "Choose a handler to determine where the log messages will be sent. You can use StreamHandler to print messages to the console or FileHandler to write them to a file.\n",
    "You can also customize the handler further if needed (e.g., set a file name for FileHandler).\n",
    "\n",
    "3. Create a Formatter:\n",
    "\n",
    "Create a formatter with a format string. This will determine how each log message is formatted before it's emitted.\n",
    "\n",
    "4. Add the Handler to the Logger:\n",
    "\n",
    "Attach the handler to the logger you created.\n",
    " \n",
    "5. n Each Module/Class:\n",
    "\n",
    "In every module or class that you want to log from, import the logger you created.\n",
    "Note that module_name should be replaced with the actual name of the module or class. This allows you to differentiate log messages from different parts of your application.\n",
    "\n",
    "6. Start Logging:\n",
    "\n",
    "You can now use the logger in each module/class to generate log messages.\n",
    "\n",
    "7. The log messages will be captured by the logger you set up, and the handler will determine where they're sent (e.g., console, file)."
   ]
  },
  {
   "cell_type": "code",
   "execution_count": 10,
   "metadata": {},
   "outputs": [
    {
     "name": "stderr",
     "output_type": "stream",
     "text": [
      "2023-09-29 11:31:44,718 - example_logger - INFO - This is an informational message\n",
      "2023-09-29 11:31:44,718 - example_logger - INFO - This is an informational message\n",
      "INFO:example_logger:This is an informational message\n"
     ]
    }
   ],
   "source": [
    "import logging\n",
    "\n",
    "# Create a basic logger\n",
    "logger = logging.getLogger('example_logger')\n",
    "logger.setLevel(logging.DEBUG)\n",
    "\n",
    "# Create a handler that writes log messages to the console\n",
    "console_handler = logging.StreamHandler()\n",
    "console_handler.setLevel(logging.DEBUG)\n",
    "\n",
    "# Create a formatter\n",
    "formatter = logging.Formatter('%(asctime)s - %(name)s - %(levelname)s - %(message)s')\n",
    "\n",
    "# Assign the formatter to the handler\n",
    "console_handler.setFormatter(formatter)\n",
    "\n",
    "# Add the handler to the logger\n",
    "logger.addHandler(console_handler)\n",
    "\n",
    "# Log a message\n",
    "logger.info('This is an informational message')\n"
   ]
  },
  {
   "cell_type": "markdown",
   "metadata": {},
   "source": [
    "9. What is the difference between the logging and print statements in Python? When\n",
    "should you use logging over print statements in a real-world application?\n",
    "\n",
    "Answer 9). Logging and print statements serve different purposes in Python, and they are used in different contexts.\n",
    "\n",
    "### Logging:\n",
    "\n",
    "1. **Purpose**:\n",
    "   - **Intended for production use**. It provides a flexible and customizable way to record information about your application's behavior.\n",
    "\n",
    "2. **Output Destination**:\n",
    "   - Can be configured to output to various destinations (e.g., console, file, network socket, email, etc.) through different handlers.\n",
    "\n",
    "3. **Configurability**:\n",
    "   - Log levels can be set to control the verbosity of log messages (e.g., DEBUG, INFO, WARNING, ERROR, CRITICAL).\n",
    "   - You can configure different loggers to capture messages from specific parts of your code.\n",
    "\n",
    "4. **Flexibility**:\n",
    "   - You can customize the log format, including timestamp, log level, source, and message content.\n",
    "\n",
    "5. **Granular Control**:\n",
    "   - You can configure different loggers to capture messages from specific parts of your code.\n",
    "\n",
    "6. **Runtime Modification**:\n",
    "   - You can change logging behavior during runtime without modifying your code.\n",
    "\n",
    "### Print Statements:\n",
    "\n",
    "1. **Purpose**:\n",
    "   - Primarily used for debugging and temporary information display during development.\n",
    "\n",
    "2. **Output Destination**:\n",
    "   - Prints to the console by default. Output cannot be easily redirected elsewhere.\n",
    "\n",
    "3. **Configurability**:\n",
    "   - Does not have different log levels. All print statements are treated equally.\n",
    "\n",
    "4. **Flexibility**:\n",
    "   - Limited customization of output format. Usually, it's a straightforward string.\n",
    "\n",
    "5. **Granular Control**:\n",
    "   - All print statements execute unless code containing them is commented out or removed.\n",
    "\n",
    "6. **Runtime Modification**:\n",
    "   - Requires manual modification of code to remove or change print statements.\n",
    "\n",
    "### When to Use Logging Over Print Statements:\n",
    "\n",
    "1. **Production-Ready Applications**:\n",
    "   - For applications intended for deployment and real-world use, logging is recommended. It allows you to record information about the application's behavior in a structured and controllable manner.\n",
    "\n",
    "2. **Debugging in Production**:\n",
    "   - When debugging a live application (e.g., tracking down an issue reported by users), logging is essential for gathering information without interfering with the user experience.\n",
    "\n",
    "3. **Distributed Systems**:\n",
    "   - In a distributed system, logs can be collected from multiple sources, aggregated, and analyzed for performance monitoring, debugging, and security auditing.\n",
    "\n",
    "4. **Granular Control**:\n",
    "   - When you need to control the level of detail in your logs, such as logging different messages for different parts of your code (e.g., libraries vs. application-specific code).\n",
    "\n",
    "5. **Error Handling**:\n",
    "   - For capturing errors, warnings, and exceptions in a structured way that can be easily analyzed.\n",
    "\n",
    "6. **Logging in Libraries and Frameworks**:\n",
    "   - Libraries and frameworks should use logging so that users of the library can configure how they want to receive log messages.\n",
    "\n",
    "In summary, logging is a more powerful and versatile tool for capturing information about an application's behavior in production environments. It provides configurability, flexibility, and granularity of control that print statements do not offer. Use print statements primarily for quick debugging during development. "
   ]
  },
  {
   "cell_type": "markdown",
   "metadata": {},
   "source": [
    "10. Write a Python program that logs a message to a file named \"app.log\" with the\n",
    "following requirements:\n",
    "● The log message should be \"Hello, World!\"\n",
    "● The log level should be set to \"INFO.\"\n",
    "● The log file should append new log entries without overwriting previous ones."
   ]
  },
  {
   "cell_type": "code",
   "execution_count": 11,
   "metadata": {},
   "outputs": [
    {
     "name": "stderr",
     "output_type": "stream",
     "text": [
      "INFO:root:Hello, World!\n"
     ]
    }
   ],
   "source": [
    "# Answer 10).\n",
    "import logging\n",
    "logging.basicConfig(filename='app.log', level=logging.INFO, filemode='a', format='%(asctime)s - %(levelname)s - %(message)s')\n",
    "\n",
    "# Log the message\n",
    "logging.info('Hello, World!')"
   ]
  },
  {
   "cell_type": "markdown",
   "metadata": {},
   "source": [
    "11. Create a Python program that logs an error message to the console and a file named\n",
    "\"errors.log\" if an exception occurs during the program's execution. The error\n",
    "message should include the exception type and a timestamp."
   ]
  },
  {
   "cell_type": "code",
   "execution_count": 12,
   "metadata": {},
   "outputs": [
    {
     "name": "stderr",
     "output_type": "stream",
     "text": [
      "ERROR:root:Exception of type ZeroDivisionError occurred at 2023-09-29 11:38:39\n"
     ]
    },
    {
     "name": "stdout",
     "output_type": "stream",
     "text": [
      "Exception of type ZeroDivisionError occurred at 2023-09-29 11:38:39\n"
     ]
    }
   ],
   "source": [
    "import logging\n",
    "import datetime\n",
    "\n",
    "# Configure the logger\n",
    "logging.basicConfig(level=logging.ERROR, format='%(asctime)s - %(levelname)s - %(message)s')\n",
    "\n",
    "# Create a FileHandler to log to errors.log\n",
    "file_handler = logging.FileHandler('errors.log')\n",
    "file_handler.setLevel(logging.ERROR)\n",
    "file_handler.setFormatter(logging.Formatter('%(asctime)s - %(levelname)s - %(message)s'))\n",
    "\n",
    "# Add the FileHandler to the logger\n",
    "logging.getLogger('').addHandler(file_handler)\n",
    "\n",
    "try:\n",
    "    # Simulate an exception\n",
    "    result = 10 / 0\n",
    "except Exception as e:\n",
    "    # Log the exception\n",
    "    timestamp = datetime.datetime.now().strftime(\"%Y-%m-%d %H:%M:%S\")\n",
    "    error_msg = f\"Exception of type {type(e).__name__} occurred at {timestamp}\"\n",
    "    logging.error(error_msg)\n",
    "\n",
    "    # Print the error to console\n",
    "    print(error_msg)\n"
   ]
  }
 ],
 "metadata": {
  "kernelspec": {
   "display_name": "base",
   "language": "python",
   "name": "python3"
  },
  "language_info": {
   "codemirror_mode": {
    "name": "ipython",
    "version": 3
   },
   "file_extension": ".py",
   "mimetype": "text/x-python",
   "name": "python",
   "nbconvert_exporter": "python",
   "pygments_lexer": "ipython3",
   "version": "3.9.12"
  },
  "orig_nbformat": 4
 },
 "nbformat": 4,
 "nbformat_minor": 2
}
