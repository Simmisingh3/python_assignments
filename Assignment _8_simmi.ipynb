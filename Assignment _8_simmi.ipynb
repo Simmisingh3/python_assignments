{
 "cells": [
  {
   "cell_type": "markdown",
   "metadata": {},
   "source": [
    "                                             # Assignment - 8"
   ]
  },
  {
   "cell_type": "markdown",
   "metadata": {},
   "source": [
    "1. In Python, what is the difference between a built-in function and a user-defined function? Provide an\n",
    "example of each.\n"
   ]
  },
  {
   "cell_type": "markdown",
   "metadata": {},
   "source": [
    "Answer. 1) Built-in function- Built-in functions are pre-defined in the programming language's library for the programming to directly call the functions wherever required in the program for achieving certain functional operations.Python has a set of built-in functions, all of which have a specific task and are there to ease code writing. \n",
    "input(), int(), list(), sum(), print() are some of the few examples of built-in functions.\n",
    "\n",
    "User-defined function - A user-defined function in Python is a code block that performs a specific task and is defined by the programmer. It is a reusable code. You define a function using the def keyword, followed by the function name, parentheses (), and a colon :. Inside the parentheses, you can specify any parameters your function will take. The function's code block is indented under the function definition.\n"
   ]
  },
  {
   "cell_type": "code",
   "execution_count": 51,
   "metadata": {},
   "outputs": [
    {
     "name": "stdout",
     "output_type": "stream",
     "text": [
      "25\n"
     ]
    }
   ],
   "source": [
    "# Built-in function\n",
    "numbers = 3,4,5,6,7\n",
    "Sum = sum(numbers) # Here sum is a built-in function that adds two numbers\n",
    "print(Sum)"
   ]
  },
  {
   "cell_type": "code",
   "execution_count": 1,
   "metadata": {},
   "outputs": [],
   "source": [
    "# User-defined function\n",
    "def Sum():\n",
    "    a = int(input(\"write the first number\"))\n",
    "    b = int(input(\"write the second number\"))\n",
    "    Add = a + b\n",
    "    return Add\n",
    "    "
   ]
  },
  {
   "cell_type": "code",
   "execution_count": 2,
   "metadata": {},
   "outputs": [
    {
     "data": {
      "text/plain": [
       "7"
      ]
     },
     "execution_count": 2,
     "metadata": {},
     "output_type": "execute_result"
    }
   ],
   "source": [
    "Sum()"
   ]
  },
  {
   "cell_type": "markdown",
   "metadata": {},
   "source": [
    "2. How can you pass arguments to a function in Python? Explain the difference between positional\n",
    "arguments and keyword arguments.\n",
    "\n",
    "Answer. 2) Information can be passed into functions as arguments. Arguments are specified after the function name, inside the parentheses. You can add as many arguments as you want, just separate them with a comma.\n",
    "\n",
    "Positional argument - A positional argument means its position matters in a function call. A positional argument is a name that is not followed by an equal sign (=) and default value.\n",
    "\n",
    "Keyword argument - A keyword argument is a function argument with a name label. Passing arguments as keyword arguments means order does not matter. A keyword argument is followed by an equal sign and an expression that gives its default value."
   ]
  },
  {
   "cell_type": "code",
   "execution_count": null,
   "metadata": {},
   "outputs": [
    {
     "data": {
      "text/plain": [
       "3"
      ]
     },
     "execution_count": 18,
     "metadata": {},
     "output_type": "execute_result"
    }
   ],
   "source": [
    "# Passing arguments to a function\n",
    "def Summing(a,b):  # here \"a\" and \"b\" are arguments\n",
    "    Add = a+b\n",
    "    return Add\n",
    "Summing(2,1)"
   ]
  },
  {
   "cell_type": "code",
   "execution_count": null,
   "metadata": {},
   "outputs": [
    {
     "data": {
      "text/plain": [
       "('The value of x is', 2, 'The value of y is', 3, 'and the value of z is', 4)"
      ]
     },
     "execution_count": 26,
     "metadata": {},
     "output_type": "execute_result"
    }
   ],
   "source": [
    "#Positional argument\n",
    "def Positions(x,y,z):\n",
    "    return (f\"The value of x is\",x, \"The value of y is\", y, \"and the value of z is\", z)\n",
    "Positions(2,3,4)\n",
    "    "
   ]
  },
  {
   "cell_type": "code",
   "execution_count": null,
   "metadata": {},
   "outputs": [
    {
     "data": {
      "text/plain": [
       "('The youngest kid is ', 'zoya')"
      ]
     },
     "execution_count": 35,
     "metadata": {},
     "output_type": "execute_result"
    }
   ],
   "source": [
    "# Keyword argument\n",
    "def Keywords(m,n,o): # the order doesnt matter\n",
    "    return(\"The youngest kid is \", n )\n",
    "\n",
    "    \n",
    "Keywords(m = \"anna\", n = \"zoya\", o = \"betty\")"
   ]
  },
  {
   "cell_type": "markdown",
   "metadata": {},
   "source": [
    "3. What is the purpose of the return statement in a function? Can a function have multiple return\n",
    "statements? Explain with an example.\n",
    "\n",
    "Answer. 3) A return statement ends the execution of a function, and returns control to the calling function. Execution resumes in the calling function at the point immediately following the call.\n",
    "\n",
    "Python Functions can have Multiple return Statements, the one that satisfies the condition will be executed first and the function will exit."
   ]
  },
  {
   "cell_type": "code",
   "execution_count": null,
   "metadata": {},
   "outputs": [
    {
     "name": "stdout",
     "output_type": "stream",
     "text": [
      "odd\n"
     ]
    }
   ],
   "source": [
    "# Multiple return statements\n",
    "def type_of_int(i):\n",
    "    if i % 2 == 0:\n",
    "        return 'even'\n",
    "    else:\n",
    "        return 'odd'\n",
    " \n",
    "result = type_of_int(7)\n",
    " \n",
    "print(result)"
   ]
  },
  {
   "cell_type": "markdown",
   "metadata": {},
   "source": [
    "4. What are lambda functions in Python? How are they different from regular functions? Provide an\n",
    "example where a lambda function can be useful.\n",
    "\n",
    "Answer. 4) Lambda functions are small, anonymous functions defined with the \"lambda\" keyword. \n",
    "\n",
    "They can take any number of arguments but can only have one expression.\n",
    "The expression is evaluated and returned when the function is called.\n",
    "Lambda functions do not require a return statement, the expression is implicitly returned.\n",
    "They can be used wherever function objects are required, like inside functions like map(), filter(), and reduce().\n",
    "You can't include statements like loops, if, or else in lambda functions; only expressions are allowed.\n",
    "\n",
    "Lambda functions are useful for small tasks that are not reused throughout your code.\n",
    "They can be assigned to variables and used like regular functions."
   ]
  },
  {
   "cell_type": "code",
   "execution_count": null,
   "metadata": {},
   "outputs": [
    {
     "name": "stdout",
     "output_type": "stream",
     "text": [
      "16\n"
     ]
    }
   ],
   "source": [
    "#Define a lambda function that takes three arguments and returns their sum\n",
    "add_three_numbers = lambda x, y, z: x + y + z\n",
    "\n",
    "# Use the lambda function\n",
    "result = add_three_numbers(5, 3, 8)\n",
    "print(result) \n"
   ]
  },
  {
   "cell_type": "markdown",
   "metadata": {},
   "source": [
    "5. How does the concept of \"scope\" apply to functions in Python? Explain the difference between local\n",
    "scope and global scope.\n",
    "\n",
    "Answer. 5) In functions, Scope is a concept that refers to where values and functions can be accessed.\n",
    "\n",
    "Local scope - A variable created inside a function belongs to the local scope of that function, and can only be used inside that function.\n",
    "\n",
    "Global scope - A variable created in the main body of the Python code is a global variable and belongs to the global scope.\n",
    "Global variables are available from within any scope, global and local.\n"
   ]
  },
  {
   "cell_type": "code",
   "execution_count": null,
   "metadata": {},
   "outputs": [
    {
     "name": "stdout",
     "output_type": "stream",
     "text": [
      "300\n"
     ]
    }
   ],
   "source": [
    "#Local scope\n",
    "def myfunc():\n",
    "  x = 300  # here, x is local scope\n",
    "  print(x)\n",
    "\n",
    "myfunc()"
   ]
  },
  {
   "cell_type": "code",
   "execution_count": null,
   "metadata": {},
   "outputs": [
    {
     "name": "stdout",
     "output_type": "stream",
     "text": [
      "300\n",
      "300\n"
     ]
    }
   ],
   "source": [
    "# Global scope\n",
    "x = 300\n",
    "\n",
    "def myfunc():\n",
    "  print(x)\n",
    "\n",
    "myfunc()\n",
    "\n",
    "print(x)"
   ]
  },
  {
   "cell_type": "markdown",
   "metadata": {},
   "source": [
    "6. How can you use the \"return\" statement in a Python function to return multiple values?\n",
    "\n",
    "Answer. 6) We can return multiple values by simply separating them with commas in the return statement."
   ]
  },
  {
   "cell_type": "code",
   "execution_count": 3,
   "metadata": {},
   "outputs": [
    {
     "data": {
      "text/plain": [
       "('abc', 100, 22.56)"
      ]
     },
     "execution_count": 3,
     "metadata": {},
     "output_type": "execute_result"
    }
   ],
   "source": [
    "# returning multiple values\n",
    "def test():\n",
    "    return 'abc', 100, 22.56\n",
    "test()"
   ]
  },
  {
   "cell_type": "markdown",
   "metadata": {},
   "source": [
    "7. What is the difference between the \"pass by value\" and \"pass by reference\" concepts when it\n",
    "comes to function arguments in Python?\n",
    "\n",
    "Answer. 7) Pass by reference - This means that you have to pass the function(reference) to a variable which refers that the variable already exists in memory. \n",
    "Here, the variable( the bucket) is passed into the function directly. The variable acts as a Package that comes with its contents(the objects).\n",
    "\n",
    "Pass by value - In this approach, we pass a copy of actual variables in function as a parameter. Hence any modification on parameters inside the function will not reflect in the actual variable."
   ]
  },
  {
   "cell_type": "markdown",
   "metadata": {},
   "source": [
    "8. Create a function that can intake integer or decimal value and do following operations:\n",
    "a. Logarithmic function (log x)\n",
    "b. Exponential function (exp(x))\n",
    "c. Power function with base 2 (2^x)\n",
    "d. Square root"
   ]
  },
  {
   "cell_type": "code",
   "execution_count": 1,
   "metadata": {},
   "outputs": [],
   "source": [
    "import math\n",
    "\n",
    "def fun():\n",
    "    val = float(input(\"Enter any integer or decimal\"))\n",
    "    \n",
    "    # logarithmic function\n",
    "    log_output = math.log(val)\n",
    "    \n",
    "    # exponential function\n",
    "    exp_output = math.exp(val)\n",
    "    \n",
    "    # power function with base 2\n",
    "    power_output = (2**val)\n",
    "    \n",
    "    # square root\n",
    "    sqrt_output = math.sqrt(val)\n",
    "    \n",
    "    return(log_output, exp_output, power_output, sqrt_output) \n",
    "    \n",
    "    \n",
    "    "
   ]
  },
  {
   "cell_type": "code",
   "execution_count": 2,
   "metadata": {},
   "outputs": [
    {
     "data": {
      "text/plain": [
       "(1.3862943611198906, 54.598150033144236, 16.0, 2.0)"
      ]
     },
     "execution_count": 2,
     "metadata": {},
     "output_type": "execute_result"
    }
   ],
   "source": [
    "fun()  # taking 4 as val"
   ]
  },
  {
   "cell_type": "markdown",
   "metadata": {},
   "source": [
    "9. Create a function that takes a full name as an argument and returns first name and last name"
   ]
  },
  {
   "cell_type": "code",
   "execution_count": 49,
   "metadata": {},
   "outputs": [],
   "source": [
    "def full_names():\n",
    "    fn = input()\n",
    "    fn.split()\n",
    "\n",
    "    first_name = fn.split()[0]\n",
    "    print(\"first name is \", first_name)\n",
    "    last_name = fn.split()[1]\n",
    "    print(\"last name is \", last_name)"
   ]
  },
  {
   "cell_type": "code",
   "execution_count": 50,
   "metadata": {},
   "outputs": [
    {
     "name": "stdout",
     "output_type": "stream",
     "text": [
      "first name is  simmi\n",
      "last name is  singh\n"
     ]
    }
   ],
   "source": [
    "full_names()"
   ]
  }
 ],
 "metadata": {
  "kernelspec": {
   "display_name": "base",
   "language": "python",
   "name": "python3"
  },
  "language_info": {
   "codemirror_mode": {
    "name": "ipython",
    "version": 3
   },
   "file_extension": ".py",
   "mimetype": "text/x-python",
   "name": "python",
   "nbconvert_exporter": "python",
   "pygments_lexer": "ipython3",
   "version": "3.9.12"
  },
  "orig_nbformat": 4
 },
 "nbformat": 4,
 "nbformat_minor": 2
}
