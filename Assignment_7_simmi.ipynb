{
 "cells": [
  {
   "cell_type": "markdown",
   "metadata": {},
   "source": [
    "                                            # Assignment 7"
   ]
  },
  {
   "cell_type": "markdown",
   "metadata": {},
   "source": [
    "Q.1. Create two int type variables, apply addition, subtraction, division and multiplications\n",
    "and store the results in variables. Then print the data in the following format by calling the\n",
    "variables:\n",
    "First variable is __ & second variable is __.\n",
    "Addition: __ + __ = __\n",
    "Subtraction: __ - __ = __\n",
    "Multiplication: __ * __ = __\n",
    "Division: __ / __ = __\n"
   ]
  },
  {
   "cell_type": "code",
   "execution_count": 16,
   "metadata": {},
   "outputs": [
    {
     "name": "stdout",
     "output_type": "stream",
     "text": [
      "The first variabl is 30 & second variable is 10 .\n",
      "Addition: 30 + 10 = 40\n",
      "Subtraction: 30 - 10 = 20\n",
      "Multiplication: 30 * 10 = 300\n",
      "Division: 30 / 10 = 3.0\n"
     ]
    }
   ],
   "source": [
    "n1 = int(input())\n",
    "n2 = int(input())\n",
    "print(\"The first variabl is\", n1, \"& second variable is\", n2, \".\")\n",
    "print(\"Addition:\", n1, \"+\", n2, \"=\", n1+n2)\n",
    "print(\"Subtraction:\", n1, \"-\", n2, \"=\", n1-n2)\n",
    "print(\"Multiplication:\", n1, \"*\", n2, \"=\", n1*n2)\n",
    "print(\"Division:\", n1, \"/\", n2, \"=\", n1/n2)"
   ]
  },
  {
   "cell_type": "markdown",
   "metadata": {},
   "source": [
    "Q.2. What is the difference between the following operators:\n",
    "(i) ‘/’ & ‘//’\n",
    "(ii) ‘**’ & ‘^’\n",
    "\n",
    "Answer 2) (i) Both of these operators are arithmatic operators\n",
    "'/' is division operator - The division operator / in Python returns the exact result of the division operation as a floating-point number.\n",
    "'//' is floor division operator - The floor division operator // returns the quotient rounded down to the nearest integer.\n",
    "\n",
    "(ii) '**' is an arithamtic operator and '^' is a bitwise operator\n",
    "'**' is exponential operator- Gets the exponential of the left operand raised to the power of the right operand.\n",
    "'^' is xor operator - Compares each bit of the first operand with the corresponding bit of the second operand. If one of the bits is 1 (but not both), the corresponding result bit is set to 1. Otherwise, the result bit is set to 0."
   ]
  },
  {
   "cell_type": "code",
   "execution_count": 2,
   "metadata": {},
   "outputs": [
    {
     "name": "stdout",
     "output_type": "stream",
     "text": [
      "3.0\n",
      "3\n"
     ]
    }
   ],
   "source": [
    "# Answer 2)(i) ‘/’ & ‘//’ operators\n",
    "a = 30\n",
    "b = 10\n",
    "print(a/b) #division operator giving exact value\n",
    "print(a//b) #floor division operator giving the neared integer"
   ]
  },
  {
   "cell_type": "code",
   "execution_count": 4,
   "metadata": {},
   "outputs": [
    {
     "name": "stdout",
     "output_type": "stream",
     "text": [
      "81\n",
      "7\n"
     ]
    }
   ],
   "source": [
    "# Answer 2) (ii) ‘**’ & ‘^’ operators\n",
    "a = 3    # 3 in binary - 0011\n",
    "b = 4    # 4 in binary - 0100 result is 0111=7\n",
    "print(a**b)  # 3*3*3*3=81\n",
    "print(a^b)"
   ]
  },
  {
   "cell_type": "markdown",
   "metadata": {},
   "source": [
    "Q.3. List the logical operators.\n",
    "\n",
    "Answer 3) AND Operator - Returns True if both statements are true.\t\n",
    "\n",
    "OR Operator - Returns True if one of the statements is true.\t\n",
    "\n",
    "NOT Operator - Reverse the result, returns False if the result is true."
   ]
  },
  {
   "cell_type": "code",
   "execution_count": 6,
   "metadata": {},
   "outputs": [
    {
     "data": {
      "text/plain": [
       "True"
      ]
     },
     "execution_count": 6,
     "metadata": {},
     "output_type": "execute_result"
    }
   ],
   "source": [
    "# AND operator\n",
    "x = 4\n",
    "x<5 and x<10"
   ]
  },
  {
   "cell_type": "code",
   "execution_count": 7,
   "metadata": {},
   "outputs": [
    {
     "data": {
      "text/plain": [
       "True"
      ]
     },
     "execution_count": 7,
     "metadata": {},
     "output_type": "execute_result"
    }
   ],
   "source": [
    "# OR operator\n",
    "x = 6\n",
    "x<5 or x<10"
   ]
  },
  {
   "cell_type": "code",
   "execution_count": 8,
   "metadata": {},
   "outputs": [
    {
     "data": {
      "text/plain": [
       "False"
      ]
     },
     "execution_count": 8,
     "metadata": {},
     "output_type": "execute_result"
    }
   ],
   "source": [
    "# NOT operator\n",
    "x = 5\n",
    "not(x > 3 and x < 10)"
   ]
  },
  {
   "cell_type": "markdown",
   "metadata": {},
   "source": [
    "Q.4. Explain right shift operator and left shift operator with examples.\n",
    "\n",
    "Answer 4) Right Shift Operator >>: Shifts the bits of the number to the right by the number of bits specified. Each shift to the right corresponds to dividing the number by 2.\n",
    "\n",
    "Left Shift Operator <<: Shifts the bits of the number to the left by the number of bits specified. Each shift to the left corresponds to multiplying the number by 2."
   ]
  },
  {
   "cell_type": "code",
   "execution_count": 9,
   "metadata": {},
   "outputs": [
    {
     "name": "stdout",
     "output_type": "stream",
     "text": [
      "2\n"
     ]
    }
   ],
   "source": [
    "# Right shift operator\n",
    "a = 10        # in binary: 1010\n",
    "result = a >> 2  # result is 2 (in binary: 0010)\n",
    "print(result)"
   ]
  },
  {
   "cell_type": "code",
   "execution_count": 10,
   "metadata": {},
   "outputs": [
    {
     "name": "stdout",
     "output_type": "stream",
     "text": [
      "40\n"
     ]
    }
   ],
   "source": [
    "# Left shift operator\n",
    "a = 10        # in binary: 1010\n",
    "result = a << 2  # result is 40 (in binary: 101000)\n",
    "print(result)"
   ]
  },
  {
   "cell_type": "markdown",
   "metadata": {},
   "source": [
    "Q.5. Create a list containing int type data of length 15. Then write a code to check if 10 is\n",
    "present in the list or not."
   ]
  },
  {
   "cell_type": "code",
   "execution_count": 25,
   "metadata": {},
   "outputs": [
    {
     "name": "stdout",
     "output_type": "stream",
     "text": [
      "Yes 10 is present in the list\n"
     ]
    }
   ],
   "source": [
    "l = [1,2,3,4,5,6,7,8,9,10,11,12,13,14,15]\n",
    "for i in l:\n",
    "    if i == 10:\n",
    "        print(\"Yes\", i ,\"is present in the list\")\n",
    "    else:\n",
    "        pass"
   ]
  }
 ],
 "metadata": {
  "kernelspec": {
   "display_name": "base",
   "language": "python",
   "name": "python3"
  },
  "language_info": {
   "codemirror_mode": {
    "name": "ipython",
    "version": 3
   },
   "file_extension": ".py",
   "mimetype": "text/x-python",
   "name": "python",
   "nbconvert_exporter": "python",
   "pygments_lexer": "ipython3",
   "version": "3.9.12"
  },
  "orig_nbformat": 4
 },
 "nbformat": 4,
 "nbformat_minor": 2
}
