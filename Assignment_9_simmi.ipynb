{
 "cells": [
  {
   "cell_type": "markdown",
   "metadata": {},
   "source": [
    "1. What is a lambda function in Python, and how does it differ from a regular function?\n",
    "\n",
    "Answer 1).  Lambda functions are small, anonymous functions defined with the \"lambda\" keyword. \n",
    "\n",
    "They can take any number of arguments but can only have one expression.\n",
    "The expression is evaluated and returned when the function is called.\n",
    "Lambda functions do not require a return statement, the expression is implicitly returned.\n",
    "They can be used wherever function objects are required, like inside functions like map(), filter(), and reduce().\n",
    "You can't include statements like loops, if, or else in lambda functions; only expressions are allowed."
   ]
  },
  {
   "cell_type": "markdown",
   "metadata": {},
   "source": [
    "2. Can a lambda function in Python have multiple arguments? If yes, how can you define and use\n",
    "them?\n",
    "\n",
    "Answer 2). lanbda functions can have any number of arguments but can have only one expression and these expressions are evaluated and returned when their function is called."
   ]
  },
  {
   "cell_type": "code",
   "execution_count": 3,
   "metadata": {},
   "outputs": [
    {
     "name": "stdout",
     "output_type": "stream",
     "text": [
      "59\n"
     ]
    }
   ],
   "source": [
    "# Answer 2). A lambda function that takes three arguments and returns their sum\n",
    "add_three_numbers = lambda x, y, z: x + y + z\n",
    "\n",
    "# Use the lambda function\n",
    "result = add_three_numbers(18, 19, 22)\n",
    "print(result)  "
   ]
  },
  {
   "cell_type": "markdown",
   "metadata": {},
   "source": [
    "3. How are lambda functions typically used in Python? Provide an example use case.\n",
    "\n",
    "Answer 3). Lambda functions are especially useful when you want to define a small function to pass as an argument to another function.\n",
    "They're often used with functions like map(), filter(), reduce(), and sorted()."
   ]
  },
  {
   "cell_type": "code",
   "execution_count": 4,
   "metadata": {},
   "outputs": [
    {
     "name": "stdout",
     "output_type": "stream",
     "text": [
      "7\n"
     ]
    }
   ],
   "source": [
    "#Answer 3) lambda functions\n",
    "add = lambda x, y: x + y\n",
    "print(add(3,4)) "
   ]
  },
  {
   "cell_type": "markdown",
   "metadata": {},
   "source": [
    "4. What are the advantages and limitations of lambda functions compared to regular functions in\n",
    "Python?\n",
    "\n",
    "Answer 4). Advantages of lambda functions:\n",
    "\n",
    "a). The code is simple and clear.\n",
    "\n",
    "b). No additional variables are added.\n",
    "\n",
    "c). They can take any number of arguments but can only have one expression.\n",
    "\n",
    "d). The expression is evaluated and returned when the function is called.\n",
    "\n",
    "e). Lambda functions do not require a return statement, the expression is implicitly returned.\n",
    "\n",
    "f). They can be used wherever function objects are required, like inside functions like map(), filter(), and reduce().\n",
    "\n",
    "Limitations of lambda function:\n",
    "\n",
    "a). Lambda expressions are a strange and unfamiliar syntax to many Python programmers.\n",
    "\n",
    "b). Lambda functions themselves lack names and documentation, meaning that the only way to know what they do is to read the code\n",
    "\n",
    "c). Lambda expressions can only contain one statement, so some readable language features, such as tuple unpacking, cannot be used with them.\n",
    "\n",
    "d). Lambda functions can often be replaced with existing functions in the standard library or Python built-in functions\n",
    "\n",
    "\n",
    "f). Lambda functions are useful for small tasks that are not reused throughout your code."
   ]
  },
  {
   "cell_type": "markdown",
   "metadata": {},
   "source": [
    "5. Are lambda functions in Python able to access variables defined outside of their own scope?\n",
    "Explain with an example.\n",
    "\n",
    "Answer 5). Yes, in Python, lambda functions can access variables defined outside of their own scope."
   ]
  },
  {
   "cell_type": "code",
   "execution_count": 10,
   "metadata": {},
   "outputs": [
    {
     "name": "stdout",
     "output_type": "stream",
     "text": [
      "18\n"
     ]
    }
   ],
   "source": [
    "# Answer 5). example of outer variable\n",
    "def outer_function(a):\n",
    "    y = 10   # This variable is defined in the outer_function's scope\n",
    "    add_lambda = lambda a: a+y # Here, we define a lambda function that takes one argument and adds it to y\n",
    "    return add_lambda(a)  # We call the lambda function\n",
    "\n",
    "print(outer_function(8)) # Call the outer_function"
   ]
  },
  {
   "cell_type": "markdown",
   "metadata": {},
   "source": [
    "6. Write a lambda function to calculate the square of a given number."
   ]
  },
  {
   "cell_type": "code",
   "execution_count": 6,
   "metadata": {},
   "outputs": [
    {
     "name": "stdout",
     "output_type": "stream",
     "text": [
      "49\n"
     ]
    }
   ],
   "source": [
    "# answer 6). Square of a number\n",
    "square = lambda x: x ** 2\n",
    "print(square(7))  "
   ]
  },
  {
   "cell_type": "markdown",
   "metadata": {},
   "source": [
    "7. Create a lambda function to find the maximum value in a list of integers."
   ]
  },
  {
   "cell_type": "code",
   "execution_count": 15,
   "metadata": {},
   "outputs": [
    {
     "name": "stdout",
     "output_type": "stream",
     "text": [
      "73\n"
     ]
    }
   ],
   "source": [
    "# Answer 7). Finding maximum value in list of integers.\n",
    "max_val = lambda l: max(l)\n",
    "print(max_val([22, 4, 12, 64, 73, 0, 9]))"
   ]
  },
  {
   "cell_type": "markdown",
   "metadata": {},
   "source": [
    "8. Implement a lambda function to filter out all the even numbers from a list of integers."
   ]
  },
  {
   "cell_type": "code",
   "execution_count": 16,
   "metadata": {},
   "outputs": [
    {
     "name": "stdout",
     "output_type": "stream",
     "text": [
      "odd\n"
     ]
    }
   ],
   "source": [
    "# Answer 8). Lambda function to filter even numbers from a list of integers.\n",
    "even_odd = lambda x: 'even' if x%2 == 0 else 'odd'\n",
    "print(even_odd(23))"
   ]
  },
  {
   "cell_type": "markdown",
   "metadata": {},
   "source": [
    "9. Write a lambda function to sort a list of strings in ascending order based on the length of each\n",
    "string."
   ]
  },
  {
   "cell_type": "code",
   "execution_count": 36,
   "metadata": {},
   "outputs": [
    {
     "name": "stdout",
     "output_type": "stream",
     "text": [
      "['om', 'ram', 'simmi', 'soumya', 'anamika']\n"
     ]
    }
   ],
   "source": [
    "# Answer 9).\n",
    "list1 = [\"simmi\", \"soumya\", \"anamika\", \"ram\", \"om\"]\n",
    "sorting_str = sorted(list1, key=lambda x : len(x))\n",
    "print(sorting_str)\n",
    "#\"simmi\", \"soumya\", \"anamika\", \"anjali\", \"rahul\""
   ]
  },
  {
   "cell_type": "markdown",
   "metadata": {},
   "source": [
    "10. Create a lambda function that takes two lists as input and returns a new list containing the\n",
    "common elements between the two lists."
   ]
  },
  {
   "cell_type": "code",
   "execution_count": 18,
   "metadata": {},
   "outputs": [
    {
     "name": "stdout",
     "output_type": "stream",
     "text": [
      "[3, 4, 5, 7]\n"
     ]
    }
   ],
   "source": [
    "# Answer 10). common elements between two lists\n",
    "# Define the lambda function\n",
    "find_common_elements = lambda list1, list2: list(set(list1) & set(list2))\n",
    "\n",
    "list1 = [1, 7, 3, 4, 5]\n",
    "list2 = [3, 4, 5, 6, 7]\n",
    "common_elements = find_common_elements(list1, list2)\n",
    "print(common_elements)  "
   ]
  },
  {
   "cell_type": "markdown",
   "metadata": {},
   "source": [
    "11. Write a recursive function to calculate the factorial of a given positive integer."
   ]
  },
  {
   "cell_type": "code",
   "execution_count": 24,
   "metadata": {},
   "outputs": [
    {
     "name": "stdout",
     "output_type": "stream",
     "text": [
      "The factorial of 5 is 120\n"
     ]
    }
   ],
   "source": [
    "#Answer 11).\n",
    "def factorial(n):\n",
    "    if n == 0 or n == 1:\n",
    "        return 1\n",
    "    else:\n",
    "        return n * factorial(n - 1)\n",
    "\n",
    "# Example usage\n",
    "num = 5\n",
    "result = factorial(num)\n",
    "print(f\"The factorial of {num} is {result}\")"
   ]
  },
  {
   "cell_type": "markdown",
   "metadata": {},
   "source": [
    "12. Implement a recursive function to compute the nth Fibonacci number."
   ]
  },
  {
   "cell_type": "code",
   "execution_count": 26,
   "metadata": {},
   "outputs": [
    {
     "name": "stdout",
     "output_type": "stream",
     "text": [
      "The 9th Fibonacci number is 21\n"
     ]
    }
   ],
   "source": [
    "# Answer 12).\n",
    "def fibonacci(n):\n",
    "    if n <= 0:\n",
    "        raise ValueError(\"Input must be a positive integer\")\n",
    "    elif n == 1:\n",
    "        return 0\n",
    "    elif n == 2:\n",
    "        return 1\n",
    "    else:\n",
    "        return fibonacci(n - 1) + fibonacci(n - 2)\n",
    "\n",
    "# Example usage\n",
    "num = 9\n",
    "result = fibonacci(num)\n",
    "print(f\"The {num}th Fibonacci number is {result}\")  \n"
   ]
  },
  {
   "cell_type": "markdown",
   "metadata": {},
   "source": [
    "13. Create a recursive function to find the sum of all the elements in a given list."
   ]
  },
  {
   "cell_type": "code",
   "execution_count": 28,
   "metadata": {},
   "outputs": [
    {
     "name": "stdout",
     "output_type": "stream",
     "text": [
      "The sum of elements in the list is: 15\n"
     ]
    }
   ],
   "source": [
    "# Answer 13).\n",
    "def recursive_sum(listn):\n",
    "    if not listn:\n",
    "        return 0\n",
    "    else:\n",
    "        return listn[0] + recursive_sum(listn[1:])\n",
    "\n",
    "# Example usage\n",
    "my_list = [1, 2, 3, 4, 5]\n",
    "result = recursive_sum(my_list)\n",
    "print(f\"The sum of elements in the list is: {result}\") "
   ]
  },
  {
   "cell_type": "markdown",
   "metadata": {},
   "source": [
    "14. Write a recursive function to determine whether a given string is a palindrome."
   ]
  },
  {
   "cell_type": "code",
   "execution_count": 30,
   "metadata": {},
   "outputs": [
    {
     "name": "stdout",
     "output_type": "stream",
     "text": [
      "madam is a palindrome: True\n",
      "curie is a palindrome: False\n"
     ]
    }
   ],
   "source": [
    "# Answer 14).\n",
    "def is_palindrome(s):\n",
    "    if len(s) <= 1:\n",
    "        return True\n",
    "    else:\n",
    "        if s[0] == s[-1]:\n",
    "            return is_palindrome(s[1:-1])\n",
    "        else:\n",
    "            return False\n",
    "\n",
    "# Example usage\n",
    "string1 = \"madam\"\n",
    "string2 = \"curie\"\n",
    "print(f\"{string1} is a palindrome: {is_palindrome(string1)}\")  \n",
    "print(f\"{string2} is a palindrome: {is_palindrome(string2)}\")  \n"
   ]
  },
  {
   "cell_type": "markdown",
   "metadata": {},
   "source": [
    "15. Implement a recursive function to find the greatest common divisor (GCD) of two positive integers\n",
    "\n",
    "Answer 15). In this recursive function, gcd(a, b), we use the Euclidean algorithm to find the GCD of two positive integers a and b. The base case is when b becomes 0, in which case, we return a as the GCD. Otherwise, we calculate the GCD of b and the remainder of the division of a by b (i.e., a % b) by calling the gcd() function recursively with arguments b and a % b.\n",
    "\n",
    "The recursion continues until b becomes 0, and then the recursion \"unwinds\" and the final result is determined as the GCD. The Euclidean algorithm is an efficient method to find the GCD of two numbers using recursion."
   ]
  },
  {
   "cell_type": "code",
   "execution_count": 31,
   "metadata": {},
   "outputs": [
    {
     "name": "stdout",
     "output_type": "stream",
     "text": [
      "The GCD of 36 and 48 is 12\n"
     ]
    }
   ],
   "source": [
    "# Answer 15). Greatest common divisor.\n",
    "def gcd(a, b):\n",
    "    if b == 0:\n",
    "        return a\n",
    "    else:\n",
    "        return gcd(b, a % b)\n",
    "\n",
    "# Example usage\n",
    "num1 = 36\n",
    "num2 = 48\n",
    "result = gcd(num1, num2)\n",
    "print(f\"The GCD of {num1} and {num2} is {result}\")  # Output will be \"The GCD of 36 and 48 is 12\"\n"
   ]
  }
 ],
 "metadata": {
  "kernelspec": {
   "display_name": "Python 3",
   "language": "python",
   "name": "python3"
  },
  "language_info": {
   "codemirror_mode": {
    "name": "ipython",
    "version": 3
   },
   "file_extension": ".py",
   "mimetype": "text/x-python",
   "name": "python",
   "nbconvert_exporter": "python",
   "pygments_lexer": "ipython3",
   "version": "3.11.4"
  },
  "orig_nbformat": 4
 },
 "nbformat": 4,
 "nbformat_minor": 2
}
