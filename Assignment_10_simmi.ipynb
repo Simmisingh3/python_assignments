{
 "cells": [
  {
   "cell_type": "markdown",
   "metadata": {},
   "source": [
    "1. What is the role of try and exception block?"
   ]
  },
  {
   "cell_type": "markdown",
   "metadata": {},
   "source": [
    "* Answer 1). Use of try and eexception blocks:\n",
    "\n",
    "\"try block\" -  The code within the try block contains the statements that may potentially raise an exception. It allows you to specify the section of code that you want to monitor for exceptions.\n",
    " \n",
    " \"exeception block\" - If an exception occurs within the try block, the corresponding except block(s) are executed. The except block allows you to define the actions or code that should be executed when a specific exception is raised. You can have multiple except blocks to handle different types of exceptions."
   ]
  },
  {
   "cell_type": "markdown",
   "metadata": {},
   "source": [
    "2. What is the syntax for a basic try-except block?"
   ]
  },
  {
   "cell_type": "code",
   "execution_count": 2,
   "metadata": {},
   "outputs": [
    {
     "name": "stdout",
     "output_type": "stream",
     "text": [
      "Some issue with x\n"
     ]
    }
   ],
   "source": [
    "# Answer 2) basic syntax of try and except block\n",
    "try:\n",
    "  print(x)\n",
    "except:\n",
    "  print(\"Some issue with x\")"
   ]
  },
  {
   "cell_type": "markdown",
   "metadata": {},
   "source": [
    "3. What happens if an exception occurs inside a try block and there is no matching\n",
    "except block?\n",
    " \n",
    " Answer 3) If an exception occurs which does not match the exception named in the except clause, it is passed on to outer try statements; if no handler is found, it is an unhandled exception and execution stops with a message given by the user."
   ]
  },
  {
   "cell_type": "markdown",
   "metadata": {},
   "source": [
    "4. What is the difference between using a bare except block and specifying a specific\n",
    "exception type?\n",
    "\n",
    "Answer 4) The point of specifying the Exception is that ONLY that Exception will be caught, if you do not specify any Exception, then ALL Errors and Exceptions will be caught potentially masking bugs.\n",
    "\n",
    "For example let's say that I want to read a file if it exists or otherwise print a message to the user, I can write:"
   ]
  },
  {
   "cell_type": "code",
   "execution_count": 3,
   "metadata": {},
   "outputs": [
    {
     "name": "stdout",
     "output_type": "stream",
     "text": [
      "File not found\n"
     ]
    }
   ],
   "source": [
    "#Answer 4) we wont be able to find the bug with bare except block\n",
    "try:\n",
    "    with ope(\"example.txt\", \"r\") as f:\n",
    "        print(f.read())\n",
    "except:\n",
    "    print(\"File not found\")"
   ]
  },
  {
   "cell_type": "markdown",
   "metadata": {},
   "source": [
    "But while this code runs fine without raising any exceptions, this code will never read the file, even if it exists!!!\n",
    "\n",
    "This is because I wrote ope instead of open and the NameError was caught by my bare except, If I write the except in the correct way:"
   ]
  },
  {
   "cell_type": "code",
   "execution_count": 5,
   "metadata": {},
   "outputs": [
    {
     "ename": "NameError",
     "evalue": "name 'ope' is not defined",
     "output_type": "error",
     "traceback": [
      "\u001b[1;31m---------------------------------------------------------------------------\u001b[0m",
      "\u001b[1;31mNameError\u001b[0m                                 Traceback (most recent call last)",
      "\u001b[1;32mc:\\Users\\Admin\\Desktop\\ineuron assignments\\python assignments\\Assignment_10_simmi.ipynb Cell 9\u001b[0m in \u001b[0;36m<cell line: 2>\u001b[1;34m()\u001b[0m\n\u001b[0;32m      <a href='vscode-notebook-cell:/c%3A/Users/Admin/Desktop/ineuron%20assignments/python%20assignments/Assignment_10_simmi.ipynb#X21sZmlsZQ%3D%3D?line=0'>1</a>\u001b[0m \u001b[39m# here we will be able to find the bug with a specifc except block\u001b[39;00m\n\u001b[0;32m      <a href='vscode-notebook-cell:/c%3A/Users/Admin/Desktop/ineuron%20assignments/python%20assignments/Assignment_10_simmi.ipynb#X21sZmlsZQ%3D%3D?line=1'>2</a>\u001b[0m \u001b[39mtry\u001b[39;00m:\n\u001b[1;32m----> <a href='vscode-notebook-cell:/c%3A/Users/Admin/Desktop/ineuron%20assignments/python%20assignments/Assignment_10_simmi.ipynb#X21sZmlsZQ%3D%3D?line=2'>3</a>\u001b[0m     \u001b[39mwith\u001b[39;00m ope(\u001b[39m\"\u001b[39m\u001b[39mexample.txt\u001b[39m\u001b[39m\"\u001b[39m, \u001b[39m\"\u001b[39m\u001b[39mr\u001b[39m\u001b[39m\"\u001b[39m) \u001b[39mas\u001b[39;00m f:\n\u001b[0;32m      <a href='vscode-notebook-cell:/c%3A/Users/Admin/Desktop/ineuron%20assignments/python%20assignments/Assignment_10_simmi.ipynb#X21sZmlsZQ%3D%3D?line=3'>4</a>\u001b[0m         \u001b[39mprint\u001b[39m(f\u001b[39m.\u001b[39mread())\n\u001b[0;32m      <a href='vscode-notebook-cell:/c%3A/Users/Admin/Desktop/ineuron%20assignments/python%20assignments/Assignment_10_simmi.ipynb#X21sZmlsZQ%3D%3D?line=4'>5</a>\u001b[0m \u001b[39mexcept\u001b[39;00m \u001b[39mFileNotFoundError\u001b[39;00m:\n",
      "\u001b[1;31mNameError\u001b[0m: name 'ope' is not defined"
     ]
    }
   ],
   "source": [
    "# Answer 4) here we will be able to find the bug with a specifc except block\n",
    "try:\n",
    "    with ope(\"example.txt\", \"r\") as f:\n",
    "        print(f.read())\n",
    "except FileNotFoundError:\n",
    "    print(\"File not found\")"
   ]
  },
  {
   "cell_type": "markdown",
   "metadata": {},
   "source": [
    "5. Can you have nested try-except blocks in Python? If yes, then give an example.\n",
    "\n",
    "Answer 5). We can have nested try-except blocks in Python. In this case, if an exception is raised in the nested try block, the nested except block is used to handle it. In case the nested except is not able to handle it, the outer except blocks are used to handle the exception."
   ]
  },
  {
   "cell_type": "code",
   "execution_count": 6,
   "metadata": {},
   "outputs": [
    {
     "name": "stdout",
     "output_type": "stream",
     "text": [
      "outer try block\n",
      "nested try block\n",
      "outer except block\n",
      "division by zero\n"
     ]
    }
   ],
   "source": [
    "# Example of Nested try and except block \n",
    "x = 10\n",
    "y = 0\n",
    " \n",
    "try:\n",
    "    print(\"outer try block\")\n",
    "    try:\n",
    "        print(\"nested try block\")\n",
    "        print(x / y)\n",
    "    except TypeError as te:\n",
    "        print(\"nested except block\")\n",
    "        print(te)\n",
    "except ZeroDivisionError as ze:\n",
    "    print(\"outer except block\")\n",
    "    print(ze)"
   ]
  },
  {
   "cell_type": "markdown",
   "metadata": {},
   "source": [
    "6.can we use multiple except blocks, if yes then give example.\n",
    "\n",
    "Answer 6). It is possible to have multiple except blocks for one try block. Let us see Python multiple exception handling examples.\n"
   ]
  },
  {
   "cell_type": "code",
   "execution_count": 7,
   "metadata": {},
   "outputs": [
    {
     "name": "stdout",
     "output_type": "stream",
     "text": [
      "You divided by 0\n"
     ]
    }
   ],
   "source": [
    "# Example of multiple except errors\n",
    "a,b=1,0\n",
    "try:\n",
    "    print(a/b)\n",
    "    print(\"This won't be printed\")\n",
    "    print('10'+10)\n",
    "except TypeError:\n",
    "    print(\"You added values of incompatible types\")\n",
    "except ZeroDivisionError:\n",
    "    print(\"You divided by 0\")"
   ]
  },
  {
   "cell_type": "markdown",
   "metadata": {},
   "source": [
    "7. Write the reason due to which following errors are raised:\n",
    "a. EOFError\n",
    "b. FloatingPointError\n",
    "c. IndexError\n",
    "d. MemoryError\n",
    "e. Overflow6. \n",
    "f. TabError\n",
    "g. ValueError\n",
    "\n",
    "Answer 7) Reason for the following errors.\n",
    "\n",
    "a) EOFError - Raised when the input() function hits an end-of-file condition (EOF).\n",
    "\n",
    "b) FloatingPointError - Raised when a floating point operation fails.\n",
    "\n",
    "c) IndexError - Raised when a sequence subscript (index) is out of range.\n",
    "\n",
    "d) MemoryError - Raised when an operation runs out of memory.\n",
    " \n",
    "e) OverflowError - Raised when the result of an arithmetic operation is too large to be expressed by the normal number format.\n",
    "\n",
    "f) TabError -  Raised when indentation contains mixed tabs and spaces.\n",
    "\n",
    "g) ValueError - Raised when a built-in operation or function receives an argument that has the right type but an inappropriate value."
   ]
  },
  {
   "cell_type": "markdown",
   "metadata": {},
   "source": [
    "8. Write code for the following given scenario and add try-exception block to it.\n",
    "a. Program to divide two numbers\n",
    "b. Program to convert a string to an integer\n",
    "c. Program to access an element in a list\n",
    "d. Program to handle a specific exception\n",
    "e. Program to handle any exception"
   ]
  },
  {
   "cell_type": "code",
   "execution_count": 10,
   "metadata": {},
   "outputs": [
    {
     "name": "stdout",
     "output_type": "stream",
     "text": [
      "division by zero\n"
     ]
    }
   ],
   "source": [
    "# Answer 8 - a) Program to divide two numbers\n",
    "\n",
    "a = int(input(\"write the first number\"))\n",
    "b = int(input(\"write the second number\"))\n",
    "try:\n",
    "    Division = a/b\n",
    "    print(Division)\n",
    "except ZeroDivisionError as d:\n",
    "    print(d)\n",
    "    "
   ]
  },
  {
   "cell_type": "code",
   "execution_count": 12,
   "metadata": {},
   "outputs": [
    {
     "name": "stdout",
     "output_type": "stream",
     "text": [
      "Conversion from string to int is not possible\n"
     ]
    }
   ],
   "source": [
    "# b). Program to convert a string to an integer\n",
    "try:\n",
    "    string_to_int = int(\"Not a number, this is a string\")\n",
    "except ValueError :\n",
    "    print(\"Conversion from string to int is not possible\")"
   ]
  },
  {
   "cell_type": "code",
   "execution_count": 5,
   "metadata": {},
   "outputs": [
    {
     "name": "stdout",
     "output_type": "stream",
     "text": [
      "90\n",
      "index 30 is not present in the list\n"
     ]
    }
   ],
   "source": [
    "# c) Program to access an element in a list\n",
    "def list_element_access(l,index):\n",
    "    try:\n",
    "        element = l[index]\n",
    "        return element\n",
    "    except:\n",
    "        return f\"index {index} is not present in the list\"\n",
    "    \n",
    "list1=[\"simmi\", 56, 90, \"shelby\", \"thomas\"]\n",
    "\n",
    "finding_index = 2\n",
    "print(list_element_access(list1,finding_index))\n",
    "\n",
    "finding_index = 30\n",
    "print(list_element_access(list1,finding_index))"
   ]
  },
  {
   "cell_type": "code",
   "execution_count": 10,
   "metadata": {},
   "outputs": [
    {
     "name": "stdout",
     "output_type": "stream",
     "text": [
      "Error: TypeError occurred.\n"
     ]
    }
   ],
   "source": [
    "# d). Program to handle a specific exception\n",
    "try:\n",
    "    x = \"10\"  \n",
    "    y = 2\n",
    "\n",
    "    z = x + y  \n",
    "    print(\"Result:\", z)\n",
    "\n",
    "except: # TypeError:\n",
    "    print(\"Error: TypeError occurred.\")"
   ]
  },
  {
   "cell_type": "code",
   "execution_count": 16,
   "metadata": {},
   "outputs": [
    {
     "name": "stdout",
     "output_type": "stream",
     "text": [
      "name 'simmi' is not defined\n"
     ]
    }
   ],
   "source": [
    "# e). Program to handle any exception\n",
    "def any_exception():\n",
    "    try:\n",
    "        multiplication = 5*simmi\n",
    "        return f\"The multiplication of 5 and simmi is {multiplication}\"\n",
    "    except Exception as e:\n",
    "        return e\n",
    "    \n",
    "result = any_exception()\n",
    "print(result)\n",
    "\n"
   ]
  },
  {
   "cell_type": "code",
   "execution_count": null,
   "metadata": {},
   "outputs": [],
   "source": []
  }
 ],
 "metadata": {
  "kernelspec": {
   "display_name": "Python 3",
   "language": "python",
   "name": "python3"
  },
  "language_info": {
   "codemirror_mode": {
    "name": "ipython",
    "version": 3
   },
   "file_extension": ".py",
   "mimetype": "text/x-python",
   "name": "python",
   "nbconvert_exporter": "python",
   "pygments_lexer": "ipython3",
   "version": "3.9.12"
  },
  "orig_nbformat": 4
 },
 "nbformat": 4,
 "nbformat_minor": 2
}
